{
  "nbformat": 4,
  "nbformat_minor": 0,
  "metadata": {
    "colab": {
      "name": "Chapter1 신경망 복습_수학과 파이썬 복습.ipynb",
      "provenance": [],
      "collapsed_sections": [],
      "authorship_tag": "ABX9TyN3rWVDM+Qn+s62/r1Yn6qw",
      "include_colab_link": true
    },
    "kernelspec": {
      "name": "python3",
      "display_name": "Python 3"
    }
  },
  "cells": [
    {
      "cell_type": "markdown",
      "metadata": {
        "id": "view-in-github",
        "colab_type": "text"
      },
      "source": [
        "<a href=\"https://colab.research.google.com/github/yeaeunJi/Algorithm_hackerrank/blob/main/Chapter1_%EC%8B%A0%EA%B2%BD%EB%A7%9D_%EB%B3%B5%EC%8A%B5_%EC%88%98%ED%95%99%EA%B3%BC_%ED%8C%8C%EC%9D%B4%EC%8D%AC_%EB%B3%B5%EC%8A%B5.ipynb\" target=\"_parent\"><img src=\"https://colab.research.google.com/assets/colab-badge.svg\" alt=\"Open In Colab\"/></a>"
      ]
    },
    {
      "cell_type": "markdown",
      "metadata": {
        "id": "sx7Vi3ANqCnV"
      },
      "source": [
        "## 벡터와 행렬\n",
        "- 신경망에서는 '벡터'와 '행렬' 또는 '텐서(tensor)'가 중요함\n",
        "  - 벡터 : 크기와 방향을 가진 양. 숫자가 일렬로 늘어선 집합(파이썬에서는 1차원 배열 취급 가능)\n",
        "  - 행렬 : 2차원 형태로 숫자를 늘여놓은 것\n",
        "  - 텐서 : 숫자집합을 N차원으로 표현한 것|\n",
        "\n"
      ]
    },
    {
      "cell_type": "markdown",
      "metadata": {
        "id": "QS2KVKijqd4Q"
      },
      "source": [
        "## 벡터 \n",
        "- 벡터는 단순한 개념이지만 이를 표현하는 방법은 열벡터, 행벡터가 존재\n",
        "  - 열벡터 : 숫자들을 세로로 나열하는 방법\n",
        "  - 행벡터 : 숫잘들을 가로로 나열하는 방법\n",
        "- 수학과 딥러닝 등 많은 분야에서 '열벡터'방식 선호하지만 이 책에서는 '행벡터'를 다룰 것임"
      ]
    },
    {
      "cell_type": "code",
      "metadata": {
        "colab": {
          "base_uri": "https://localhost:8080/"
        },
        "id": "UzHrJNyoqwPQ",
        "outputId": "3104855e-c182-4ab5-c154-b2b3b490b443"
      },
      "source": [
        "# 벡터 생성 : np.array() 메소드로 생성 가능\n",
        "import numpy as np\n",
        "x = np.array([1,2,3]) # ==> numpy의 다차원 배열 클래스인 np.ndarray 클래스를 생성\n",
        "print(x)\n",
        "x.__class__ # 클래시 이름 표시."
      ],
      "execution_count": 5,
      "outputs": [
        {
          "output_type": "stream",
          "text": [
            "[1 2 3]\n"
          ],
          "name": "stdout"
        },
        {
          "output_type": "execute_result",
          "data": {
            "text/plain": [
              "numpy.ndarray"
            ]
          },
          "metadata": {
            "tags": []
          },
          "execution_count": 5
        }
      ]
    },
    {
      "cell_type": "code",
      "metadata": {
        "colab": {
          "base_uri": "https://localhost:8080/"
        },
        "id": "kkf6Bsr6q8bt",
        "outputId": "b83dc186-9007-4d32-814d-24af899b677f"
      },
      "source": [
        "x.shape # 인스턴스 변수 중 다차원 배열의 형상(모양)에 관한 변수"
      ],
      "execution_count": 2,
      "outputs": [
        {
          "output_type": "execute_result",
          "data": {
            "text/plain": [
              "(3,)"
            ]
          },
          "metadata": {
            "tags": []
          },
          "execution_count": 2
        }
      ]
    },
    {
      "cell_type": "code",
      "metadata": {
        "colab": {
          "base_uri": "https://localhost:8080/"
        },
        "id": "8Y3gjTgXrCfC",
        "outputId": "a4973bd0-487f-406f-abec-f78046b5d1d6"
      },
      "source": [
        "x.ndim # 인스턴스 변수 중 다차원 배열의 차원 수를 담고 있는 변수"
      ],
      "execution_count": 3,
      "outputs": [
        {
          "output_type": "execute_result",
          "data": {
            "text/plain": [
              "1"
            ]
          },
          "metadata": {
            "tags": []
          },
          "execution_count": 3
        }
      ]
    },
    {
      "cell_type": "code",
      "metadata": {
        "colab": {
          "base_uri": "https://localhost:8080/"
        },
        "id": "9TRUEmpArEAp",
        "outputId": "7ae8b087-a7b0-42b7-b1fd-0c20097f5ad9"
      },
      "source": [
        "# 행렬 생성\n",
        "W = np.array([[1,2,3], [4,5,6]])\n",
        "print(W.shape)\n",
        "print(W.ndim)"
      ],
      "execution_count": 4,
      "outputs": [
        {
          "output_type": "stream",
          "text": [
            "(2, 3)\n",
            "2\n"
          ],
          "name": "stdout"
        }
      ]
    },
    {
      "cell_type": "markdown",
      "metadata": {
        "id": "byTdg5_Qr7YG"
      },
      "source": [
        "### 행렬의 원소별 연산(elements-wise)\n",
        "- 더하기(+)와 곱하기(*) 연산 : 피연산자인 다차원 배열들에서 서로 대응하는 원소끼리(각 원소가 독립적으로) 연산된다."
      ]
    },
    {
      "cell_type": "code",
      "metadata": {
        "colab": {
          "base_uri": "https://localhost:8080/"
        },
        "id": "nXyBmE02rQeo",
        "outputId": "07f9a73c-184c-437e-fdbb-4640602169ef"
      },
      "source": [
        "W = np.array([[1,2,3], [4,5,6]])\n",
        "X = np.array([[0,1,2], [3,4,5]])\n",
        "print(W+X)\n",
        "print(W*X)"
      ],
      "execution_count": 7,
      "outputs": [
        {
          "output_type": "stream",
          "text": [
            "[[ 1  3  5]\n",
            " [ 7  9 11]]\n",
            "[[ 0  2  6]\n",
            " [12 20 30]]\n"
          ],
          "name": "stdout"
        }
      ]
    },
    {
      "cell_type": "markdown",
      "metadata": {
        "id": "IacSM2UashXe"
      },
      "source": [
        "### 브로드캐스트(broadcast)\n",
        "- 형상(모양)이 다른 다차원 배열끼리의 연산도 가능"
      ]
    },
    {
      "cell_type": "code",
      "metadata": {
        "colab": {
          "base_uri": "https://localhost:8080/"
        },
        "id": "Kh5QByVusYpQ",
        "outputId": "b28755a7-b721-4ba1-cb6e-fb4275b70034"
      },
      "source": [
        "A = np.array([[1,2], [3,4]])\n",
        "A * 10 # 2차원 배열에 스칼라값을 곱할 경우, 스칼라 값이 A의 형상으로 확장되어 원소별 연산을 수행한다."
      ],
      "execution_count": 9,
      "outputs": [
        {
          "output_type": "execute_result",
          "data": {
            "text/plain": [
              "array([[10, 20],\n",
              "       [30, 40]])"
            ]
          },
          "metadata": {
            "tags": []
          },
          "execution_count": 9
        }
      ]
    },
    {
      "cell_type": "code",
      "metadata": {
        "colab": {
          "base_uri": "https://localhost:8080/"
        },
        "id": "-VujYT5gszU0",
        "outputId": "1d8da8e1-72b3-48b3-bc71-94521ffda874"
      },
      "source": [
        "A = np.array([[1,2], [3,4]])\n",
        "b = np.array([10, 20])\n",
        "A * b # 2차원 배열A와 1차원 배열 b를 곱할 경우, 1차원 배열인 b가 2차원 배열 A의 형상과 같아지도록 활장되어 원소별 연산을 수행한다.\n",
        "\n",
        "# 넘파이의 브로드캐스트가 효과적으로 동작하기 위해선 다차원 배열의 형상이 몇 가지 규칙을 충족해야 한다. "
      ],
      "execution_count": 10,
      "outputs": [
        {
          "output_type": "execute_result",
          "data": {
            "text/plain": [
              "array([[10, 40],\n",
              "       [30, 80]])"
            ]
          },
          "metadata": {
            "tags": []
          },
          "execution_count": 10
        }
      ]
    },
    {
      "cell_type": "markdown",
      "metadata": {
        "id": "1OiplqMot-ge"
      },
      "source": [
        "### 벡터의 내적과 행렬의 곱\n",
        "- 벡터의 내적 : 두 벡터에서 대응하는 원소들의 곱을 모두 더한 것\n",
        "\n",
        "    예) 두 개의 벡터 \n",
        "      x = (x1, x2, ..., xn)\n",
        "      y = (y1, y2, ..., yn)\n",
        "\n",
        "    벡터의 내적 수식 : x*y = x1y1 + x2y2 + ... + xnyn\n",
        "\n",
        "- 벡터의 내적은 '두 벡터가 얼마나 같은 방향으로 향하고 있는가'를 나타낸다.\n",
        "\n",
        "  벡터의 길이가 1인 경우, 완전히 같은 방향으로 향하는 두 벡터의 내적은 1이된다. 반대로, 반대 방향을 향하는 두 벡터의 내적은 -1이다.\n",
        "\n",
        "- 행렬의 곱 : 왼쪽 행렬의 행벡터와 오른쪽 행렬의 열벡터의 내적을 새로운 행렬의 대응하는 원소에 저장\n"
      ]
    },
    {
      "cell_type": "code",
      "metadata": {
        "colab": {
          "base_uri": "https://localhost:8080/"
        },
        "id": "0WAnX8dftKEw",
        "outputId": "bd836b9f-61ca-4a4f-a762-2882e5704b10"
      },
      "source": [
        "# 벡터의 내적\n",
        "a = np.array([1,2,3])\n",
        "b = np.array([4,5,6])\n",
        "\n",
        "np.dot(a,b)"
      ],
      "execution_count": 11,
      "outputs": [
        {
          "output_type": "execute_result",
          "data": {
            "text/plain": [
              "32"
            ]
          },
          "metadata": {
            "tags": []
          },
          "execution_count": 11
        }
      ]
    },
    {
      "cell_type": "code",
      "metadata": {
        "colab": {
          "base_uri": "https://localhost:8080/"
        },
        "id": "-0XivXjLwijD",
        "outputId": "8a56052e-3414-47be-9a55-e6a2b4dbce53"
      },
      "source": [
        "# 행렬의 곱\n",
        "A = np.array([[1,2], [3,4]])\n",
        "B = np.array([[5,6], [7,8]])\n",
        "print(np.matmul(A,B))\n",
        "print(A*B)\n",
        "print(np.dot(A,B)) # 벡터의 내적과 행렬의 곱 모두에 np.dot() 사용 가능. 다만 이 둘의 구분을 통해 코드의 논리와 의도가 명확해질 수 있음"
      ],
      "execution_count": 14,
      "outputs": [
        {
          "output_type": "stream",
          "text": [
            "[[19 22]\n",
            " [43 50]]\n",
            "[[ 5 12]\n",
            " [21 32]]\n",
            "[[19 22]\n",
            " [43 50]]\n"
          ],
          "name": "stdout"
        }
      ]
    },
    {
      "cell_type": "markdown",
      "metadata": {
        "id": "hoLa5lDUxZNS"
      },
      "source": [
        "### 행렬 형상 확인\n",
        "- 형상(shape) 확인 \n",
        "\n",
        "    행렬의 곱에서는 대응하는 차원의 원소 수를 일치시킨다.\n",
        "\n",
        "    행렬 A와 B를 곱하여 행렬 C를 만든다면, A의 열과 B의 행이 같아야 한다.\n",
        "    이렇게 만들어진 행렬 C의 형상은 A의 행 수와 B의 열 수가 된다."
      ]
    },
    {
      "cell_type": "markdown",
      "metadata": {
        "id": "cKme9IIBzqxk"
      },
      "source": [
        "## 신경망의 추론\n",
        "- 신경망에서 수행하는 작업은 두 단계로 나눌 수 있다. '학습'과 '추론'이다.\n"
      ]
    },
    {
      "cell_type": "markdown",
      "metadata": {
        "id": "SgwrDArFz2PB"
      },
      "source": [
        "### 신경망 추론 전체 그림\n",
        "- 신경망은 간단히 말하면 단순한 '함수'라고 할 수 있다. 입력한 값을 처리를 통해 어떠한 값으로 출력하는 함수와 같이 신경망 역시 입력을 출력으로 변환한다.\n",
        "\n"
      ]
    },
    {
      "cell_type": "code",
      "metadata": {
        "id": "gS8CwMZzzLZZ"
      },
      "source": [
        "# 예) 2차원 데이터를 입력하여 3차원 데이터를 출력하는 함수를 신경망으로 구현하려면\n",
        "# 입력층(input layer) ==> 뉴런 2개\n",
        "# 출력층(output layer) ==> 3개\n",
        "# 은닉층(hidden layer) 혹은 중간층 ==> 적당한 층의 뉴런 배치\n",
        "\n",
        "# 입력층 A -----가충치(weight) 존재----> 은닉층\n",
        "# 가중치와 뉴런의 값을 각각 곱하여 그 합이 다음 뉴런의 입력으로 쓰인다.\n",
        "# (정확하게는 그 합에 활성화 함수(activation function)을 적용한 값이 다음 뉴런의 입력이 된다.)\n",
        "# 이때, 각 층에서는 이전 뉴런의 값에 영향을 받지 않는 '정수'도 더해진다.(이 정수를 편향(bias)라고 함)\n",
        "\n",
        "# 완전연결계층(fully connected layer) : 인접하는 층의 모든 뉴런과 연결되어 있다.\n",
        "\n",
        "# 입력층의 데이터(x1,x2) 가중치 w11, w21, 편향 b1 ==> 은닉층 중 첫번째 뉴런은 다음과 같이 계산 가능\n",
        "# h1 = x1*w11 + x2*w21 + b1"
      ],
      "execution_count": null,
      "outputs": []
    },
    {
      "cell_type": "code",
      "metadata": {
        "colab": {
          "base_uri": "https://localhost:8080/"
        },
        "id": "7uEiMh3j3JAo",
        "outputId": "2135c709-aad3-4cf3-8ac2-edfea02a62d4"
      },
      "source": [
        "# 완전연결계층에 의한 변환의 미니배치 버전\n",
        "import numpy as np\n",
        "W1 = np.random.randn(2,4) # 가중치\n",
        "print(W1)\n",
        "b1 = np.random.randn(4) # 편향\n",
        "x = np.random.randn(10, 2) # 입력\n",
        "print(x)\n",
        "h = np.matmul(x, W1) + b1\n",
        "print(h)"
      ],
      "execution_count": 16,
      "outputs": [
        {
          "output_type": "stream",
          "text": [
            "[[ 1.81204266  0.15915402 -0.33646111  1.54672305]\n",
            " [ 0.67670207 -1.47193881  0.34844635  0.34299862]]\n",
            "[[ 0.67359615 -1.02907758]\n",
            " [ 0.96312849 -2.22095356]\n",
            " [ 0.49902772 -1.05555115]\n",
            " [ 0.08101712 -1.76062916]\n",
            " [ 0.40282385 -0.93252104]\n",
            " [ 0.67947628 -0.37644115]\n",
            " [-0.57097253 -0.52440664]\n",
            " [ 0.69710686  0.83599647]\n",
            " [-0.5966374  -0.94863326]\n",
            " [-2.08416726 -1.61664319]]\n",
            "[[ 0.57012046  1.40620414 -0.39743828  0.1120233 ]\n",
            " [ 0.28822047  3.20665289 -0.91015948  0.15103782]\n",
            " [ 0.23588031  1.41738835 -0.34792741 -0.1670661 ]\n",
            " [-0.99870049  2.38869197 -0.45296496 -1.05545353]\n",
            " [ 0.14480952  1.22098432 -0.27268916 -0.27366769]\n",
            " [ 1.02241593  0.44649909 -0.17200794  0.34497164]\n",
            " [-1.34357921  0.46528128  0.19716143 -1.63987833]\n",
            " [ 1.87482234 -1.33532892  0.24452952  0.78810569]\n",
            " [-1.67716008  1.08563224  0.05797644 -1.82508391]\n",
            " [-4.82467136  1.83215562  0.32570677 -4.35500713]]\n"
          ],
          "name": "stdout"
        }
      ]
    },
    {
      "cell_type": "code",
      "metadata": {
        "id": "rXX_WZcS3kND"
      },
      "source": [
        "# 10개의 샘플 데이터 각각을 완전열결계층으로 변환\n",
        "# 이러한 완전연결계층에 의한 변환은 '선형'변환'이다. 여기에 '비선형' 효과를 부여하는 것이\n",
        "# 바로 '활성화 함수'이다. 정확히 말하면, 비선형 활성화 함수를 이용하여 신경망의 표현력을 높일 수 있다.\n",
        "# 예에서는 시그모이드 함수(sigmoid function)을 사용해보자.\n",
        "\n",
        "# 시그모이드 함수는 알파벳 S자 모양의 곡선 함수로 임의의 실수를 입력받아 0에서 1 사이의 실수를 출력한다.\n",
        "def sigmoid(x) : \n",
        "  return 1 / (1+np.exp(-x))"
      ],
      "execution_count": null,
      "outputs": []
    },
    {
      "cell_type": "code",
      "metadata": {
        "id": "klcWTP35PSCw"
      },
      "source": [
        ""
      ],
      "execution_count": null,
      "outputs": []
    }
  ]
}