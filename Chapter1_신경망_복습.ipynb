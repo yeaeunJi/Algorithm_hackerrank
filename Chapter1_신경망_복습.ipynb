{
  "nbformat": 4,
  "nbformat_minor": 0,
  "metadata": {
    "colab": {
      "name": "Chapter1 신경망 복습.ipynb",
      "provenance": [],
      "collapsed_sections": [],
      "authorship_tag": "ABX9TyP9ojTsMLHV3pZHwNTPyhVu",
      "include_colab_link": true
    },
    "kernelspec": {
      "name": "python3",
      "display_name": "Python 3"
    }
  },
  "cells": [
    {
      "cell_type": "markdown",
      "metadata": {
        "id": "view-in-github",
        "colab_type": "text"
      },
      "source": [
        "<a href=\"https://colab.research.google.com/github/yeaeunJi/Algorithm_hackerrank/blob/main/Chapter1_%EC%8B%A0%EA%B2%BD%EB%A7%9D_%EB%B3%B5%EC%8A%B5.ipynb\" target=\"_parent\"><img src=\"https://colab.research.google.com/assets/colab-badge.svg\" alt=\"Open In Colab\"/></a>"
      ]
    },
    {
      "cell_type": "markdown",
      "metadata": {
        "id": "sx7Vi3ANqCnV"
      },
      "source": [
        "#벡터와 행렬\n",
        "- 신경망에서는 '벡터'와 '행렬' 또는 '텐서(tensor)'가 중요함\n",
        "  - 벡터 : 숫자가 일렬로 늘어선 집합(파이썬에서는 1차원 배열 취급 가능)\n",
        "  - 행렬 : 2차원 형태로 숫자를 늘여놓은 것\n",
        "  - 텐서 : 숫자집합을 N차원으로 표현한 것|\n",
        "\n"
      ]
    },
    {
      "cell_type": "markdown",
      "metadata": {
        "id": "QS2KVKijqd4Q"
      },
      "source": [
        "## 벡터 \n",
        "- 벡터는 단순한 개념이지만 이를 표현하는 방법은 열벡터, 행벡터가 존재\n",
        "  - 열벡터 : 숫자들을 세로로 나열하는 방법\n",
        "  - 행벡터 : 숫잘들을 가로로 나열하는 방법\n",
        "- 수학과 딥러닝 등 많은 분야에서 '열벡터'방식 선호하지만 이 책에서는 '행벡터'를 다룰 것임"
      ]
    },
    {
      "cell_type": "code",
      "metadata": {
        "colab": {
          "base_uri": "https://localhost:8080/"
        },
        "id": "UzHrJNyoqwPQ",
        "outputId": "3104855e-c182-4ab5-c154-b2b3b490b443"
      },
      "source": [
        "# 벡터 생성 : np.array() 메소드로 생성 가능\n",
        "import numpy as np\n",
        "x = np.array([1,2,3]) # ==> numpy의 다차원 배열 클래스인 np.ndarray 클래스를 생성\n",
        "print(x)\n",
        "x.__class__ # 클래시 이름 표시."
      ],
      "execution_count": 5,
      "outputs": [
        {
          "output_type": "stream",
          "text": [
            "[1 2 3]\n"
          ],
          "name": "stdout"
        },
        {
          "output_type": "execute_result",
          "data": {
            "text/plain": [
              "numpy.ndarray"
            ]
          },
          "metadata": {
            "tags": []
          },
          "execution_count": 5
        }
      ]
    },
    {
      "cell_type": "code",
      "metadata": {
        "colab": {
          "base_uri": "https://localhost:8080/"
        },
        "id": "kkf6Bsr6q8bt",
        "outputId": "b83dc186-9007-4d32-814d-24af899b677f"
      },
      "source": [
        "x.shape # 인스턴스 변수 중 다차원 배열의 형상(모양)에 관한 변수"
      ],
      "execution_count": 2,
      "outputs": [
        {
          "output_type": "execute_result",
          "data": {
            "text/plain": [
              "(3,)"
            ]
          },
          "metadata": {
            "tags": []
          },
          "execution_count": 2
        }
      ]
    },
    {
      "cell_type": "code",
      "metadata": {
        "colab": {
          "base_uri": "https://localhost:8080/"
        },
        "id": "8Y3gjTgXrCfC",
        "outputId": "a4973bd0-487f-406f-abec-f78046b5d1d6"
      },
      "source": [
        "x.ndim # 인스턴스 변수 중 다차원 배열의 차원 수를 담고 있는 변수"
      ],
      "execution_count": 3,
      "outputs": [
        {
          "output_type": "execute_result",
          "data": {
            "text/plain": [
              "1"
            ]
          },
          "metadata": {
            "tags": []
          },
          "execution_count": 3
        }
      ]
    },
    {
      "cell_type": "code",
      "metadata": {
        "colab": {
          "base_uri": "https://localhost:8080/"
        },
        "id": "9TRUEmpArEAp",
        "outputId": "7ae8b087-a7b0-42b7-b1fd-0c20097f5ad9"
      },
      "source": [
        "# 행렬 생성\n",
        "W = np.array([[1,2,3], [4,5,6]])\n",
        "print(W.shape)\n",
        "print(W.ndim)"
      ],
      "execution_count": 4,
      "outputs": [
        {
          "output_type": "stream",
          "text": [
            "(2, 3)\n",
            "2\n"
          ],
          "name": "stdout"
        }
      ]
    },
    {
      "cell_type": "markdown",
      "metadata": {
        "id": "byTdg5_Qr7YG"
      },
      "source": [
        "## 행렬의 원소별 연산(elements-wise)\n",
        "- 더하기(+)와 곱하기(*) 연산 : 피연산자인 다차원 배열들에서 서로 대응하는 원소끼리(각 원소가 독립적으로) 연산된다."
      ]
    },
    {
      "cell_type": "code",
      "metadata": {
        "colab": {
          "base_uri": "https://localhost:8080/"
        },
        "id": "nXyBmE02rQeo",
        "outputId": "07f9a73c-184c-437e-fdbb-4640602169ef"
      },
      "source": [
        "W = np.array([[1,2,3], [4,5,6]])\n",
        "X = np.array([[0,1,2], [3,4,5]])\n",
        "print(W+X)\n",
        "print(W*X)"
      ],
      "execution_count": 7,
      "outputs": [
        {
          "output_type": "stream",
          "text": [
            "[[ 1  3  5]\n",
            " [ 7  9 11]]\n",
            "[[ 0  2  6]\n",
            " [12 20 30]]\n"
          ],
          "name": "stdout"
        }
      ]
    },
    {
      "cell_type": "markdown",
      "metadata": {
        "id": "IacSM2UashXe"
      },
      "source": [
        "## 브로드캐스트(broadcast)\n",
        "- 형상(모양)이 다른 다차원 배열끼리의 연산도 가능"
      ]
    },
    {
      "cell_type": "code",
      "metadata": {
        "colab": {
          "base_uri": "https://localhost:8080/"
        },
        "id": "Kh5QByVusYpQ",
        "outputId": "b28755a7-b721-4ba1-cb6e-fb4275b70034"
      },
      "source": [
        "A = np.array([[1,2], [3,4]])\n",
        "A * 10 # 2차원 배열에 스칼라값을 곱할 경우, 스칼라 값이 A의 형상으로 확장되어 원소별 연산을 수행한다."
      ],
      "execution_count": 9,
      "outputs": [
        {
          "output_type": "execute_result",
          "data": {
            "text/plain": [
              "array([[10, 20],\n",
              "       [30, 40]])"
            ]
          },
          "metadata": {
            "tags": []
          },
          "execution_count": 9
        }
      ]
    },
    {
      "cell_type": "code",
      "metadata": {
        "colab": {
          "base_uri": "https://localhost:8080/"
        },
        "id": "-VujYT5gszU0",
        "outputId": "1d8da8e1-72b3-48b3-bc71-94521ffda874"
      },
      "source": [
        "A = np.array([[1,2], [3,4]])\n",
        "b = np.array([10, 20])\n",
        "A * b # 2차원 배열A와 1차원 배열 b를 곱할 경우, 1차원 배열인 b가 2차원 배열 A의 형상과 같아지도록 활장되어 원소별 연산을 수행한다.\n",
        "\n",
        "# 넘파이의 브로드캐스트가 효과적으로 동작하기 위해선 다차원 배열의 형상이 몇 가지 규칙을 충족해야 한다. "
      ],
      "execution_count": 10,
      "outputs": [
        {
          "output_type": "execute_result",
          "data": {
            "text/plain": [
              "array([[10, 40],\n",
              "       [30, 80]])"
            ]
          },
          "metadata": {
            "tags": []
          },
          "execution_count": 10
        }
      ]
    },
    {
      "cell_type": "code",
      "metadata": {
        "id": "0WAnX8dftKEw"
      },
      "source": [
        ""
      ],
      "execution_count": null,
      "outputs": []
    }
  ]
}