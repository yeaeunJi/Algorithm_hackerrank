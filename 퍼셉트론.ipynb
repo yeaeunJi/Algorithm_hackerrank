{
  "nbformat": 4,
  "nbformat_minor": 0,
  "metadata": {
    "colab": {
      "name": "퍼셉트론.ipynb",
      "provenance": [],
      "collapsed_sections": [],
      "authorship_tag": "ABX9TyPTEbqz1bhYf+c7DTTRalN8",
      "include_colab_link": true
    },
    "kernelspec": {
      "name": "python3",
      "display_name": "Python 3"
    }
  },
  "cells": [
    {
      "cell_type": "markdown",
      "metadata": {
        "id": "view-in-github",
        "colab_type": "text"
      },
      "source": [
        "<a href=\"https://colab.research.google.com/github/yeaeunJi/Algorithm_hackerrank/blob/main/%ED%8D%BC%EC%85%89%ED%8A%B8%EB%A1%A0.ipynb\" target=\"_parent\"><img src=\"https://colab.research.google.com/assets/colab-badge.svg\" alt=\"Open In Colab\"/></a>"
      ]
    },
    {
      "cell_type": "markdown",
      "metadata": {
        "id": "liqTmJw0Pgxx"
      },
      "source": [
        "*밑바닥부터 시작하는 딥러닝*\n",
        "- 신경망(딥러닝)의 기원이 되는 알고리즘\n",
        "- 퍼셉트론이란? \n",
        "  - 퍼셉트론이란 다수의 신호를 입력으로 받아 하나의 신호를 출력\n",
        "  - 퍼셉트론 신호는 '흐른다/안 흐른다'의 두 가지 값을 가짐\n",
        "  - 입력 신호가 뉴런에 보내질 때에는 각각 고유한 가중치가 곱해짐\n",
        "  - 뉴런에서 보내온 신호의 총합이 정해진 한계를 넘어설 때만 1을 출력\n",
        "(이를 '뉴런이 활성화한다'라고 표현하기도 함)\n",
        "\n",
        "  - 이책에서는 그 한계를 '임계값'이라고 함(세타)\n",
        "\n",
        "     0 (w1x1 + w2x2 <= theta)\n",
        "      \n",
        "       1 (w1x1 + w2x2 > theta)\n",
        "\n",
        "  - 복수의 입력 신호 각각에 고육한 가중치를 부여함(가중치는 각 신호가 결과에 주는 영향력을 조절하는 요소로 작용하는데, 가중치가 클수록 해당 신호가 더 중요함을 의미)"
      ]
    },
    {
      "cell_type": "markdown",
      "metadata": {
        "id": "bdJ-ctaVfIn7"
      },
      "source": [
        "## 단순한 논리 회로\n",
        "### AND 게이트\n",
        "- AND 게이트는 입력이 둘이고, 출력이 하나임\n",
        "- 두 입력이 모두 1일때에만 1을 출력하고, 그 외에는 0을 출력\n",
        "- 이와 같은 AND 게이트를 퍼셉트론으로 표현하고자 함\n",
        "  - w1, w2, theta의 값을 정해야 하는데 이러한 조건을 만족하는 매개변수의 조합은 무수히 많음\n",
        "  - 매개변수를 (0.5, 0.5, 0.7) 등으로 설정하면 x1, x2 모두가 1일 때만 가중 신호의 총합이 주어진 임계값을 웃돌게됨\n",
        "\n",
        "### NAND 게이트와 OR 게이트\n",
        "- NAND 게이트는 Not AND를 의미하며, x1, x2가 모두 1일 때에만 0을 출력하는 것으로 AND 게이트를 구현하는 매개변수의 부호를 모두 반전하면 NAND 게이트가 된다.\n",
        "- OR 게이트는 입력 신호 중 하나만 1이상이면 1을 출력하는 논리회로\n",
        "\n",
        "- 퍼셉트론으로 AND, NAND, OR 게이트 논리 회로 표현가능하며, 이때 퍼셉트론의 구조는 동일하고 가중치와 임계값인 매개변수의 값만 다르다. \n",
        "\n",
        "\n"
      ]
    },
    {
      "cell_type": "markdown",
      "metadata": {
        "id": "RyyPzudzIoIg"
      },
      "source": [
        "## 퍼셉트론 구현하기"
      ]
    },
    {
      "cell_type": "markdown",
      "metadata": {
        "id": "LVlYn2YwMfl9"
      },
      "source": [
        "### 간단한 구현"
      ]
    },
    {
      "cell_type": "code",
      "metadata": {
        "colab": {
          "base_uri": "https://localhost:8080/"
        },
        "id": "5Sr0ooUzfHHu",
        "outputId": "a0dd051f-ceac-4235-a95c-eeb5115afe70"
      },
      "source": [
        "# X1과 X2를 인수로 받는 AND 함수 정의\n",
        "def AND(x1, x2) :\n",
        "  w1, w2, theta = 0.5, 0.5, 0.7 # 매개변수 가중치1, 가중치2, 임계값 초기화\n",
        "  tmp = x1*w1 + x2*w2 # 가중치를 곱한 입력의 총합\n",
        "  if tmp <= theta :\n",
        "    return 0\n",
        "  elif tmp > theta :\n",
        "    return 1\n",
        "\n",
        "print('0, 0 : ', AND(0,0))\n",
        "print('1, 0 : ', AND(1,0))\n",
        "print('0, 1 : ', AND(0,1))\n",
        "print('1, 1 : ', AND(1,1))"
      ],
      "execution_count": 4,
      "outputs": [
        {
          "output_type": "stream",
          "text": [
            "0, 0 :  0\n",
            "1, 0 :  0\n",
            "0, 1 :  0\n",
            "1, 1 :  1\n"
          ],
          "name": "stdout"
        }
      ]
    },
    {
      "cell_type": "markdown",
      "metadata": {
        "id": "Q59uZpwvMjNJ"
      },
      "source": [
        "### 가중치와 편향 도입\n",
        "- 위에서 구현한 AND 게이트의 theta를 -b로 치환하여 편향을 도입\n",
        "\n",
        "  0 (w1x1 + w2x2 - b <= 0)\n",
        "\n",
        "  1 (w1x1 + w2x2 - b > 0)\n",
        "\n",
        "  * 퍼셉트론은 입력 신호에 가중치를 곱한 값과 편향을 합하여, 그 값이 0을 넘으면 1을 출력하고 아니면 0 출력\n",
        "  "
      ]
    },
    {
      "cell_type": "code",
      "metadata": {
        "colab": {
          "base_uri": "https://localhost:8080/"
        },
        "id": "jrCuavTCMWuJ",
        "outputId": "623569d9-4dcd-44a8-9c71-b841e3d16fab"
      },
      "source": [
        "# numpy를 활용하여 출력\n",
        "import numpy as np\n",
        "\n",
        "x = np.array([0,1])\n",
        "w = np.array([0.5, 0.5])\n",
        "b = -0.7\n",
        "\n",
        "print(w*x)\n",
        "print(np.sum(w*x)+b) # 부동소수점 수에 의한 연산 오차\n",
        "# np.sum() ==> 입력한 배열에 담긴 모든 원소의 총합 계산"
      ],
      "execution_count": 5,
      "outputs": [
        {
          "output_type": "stream",
          "text": [
            "[0.  0.5]\n",
            "-0.19999999999999996\n"
          ],
          "name": "stdout"
        }
      ]
    },
    {
      "cell_type": "markdown",
      "metadata": {
        "id": "wSN4fDWBOELV"
      },
      "source": [
        "### 가중치와 편향 구현하기\n",
        "\n",
        "- 주의!\n",
        "  \n",
        "  - 가중치 : 각 입력 신호가 결과에 주는 영향력(중요도)를 조정하는 매개변수\n",
        "  - 편향 : 뉴런이 얼마나 쉽게 활성화하느냐를 조정하는 매개변수(결과로 1을 출력하느냐, 임계값)\n",
        "\n",
        "\n"
      ]
    },
    {
      "cell_type": "code",
      "metadata": {
        "id": "om8UrilMNv3G"
      },
      "source": [
        "# 가중치와 편향을 도입한 AND 게이트\n",
        "def AND(x1, x2) :\n",
        "  x = np.array([x1, x2])\n",
        "  w = np.array([0.5, 0.5])\n",
        "  b = -0.7\n",
        "  tmp = np.sum(x*w) + b\n",
        "  \n",
        "  if tmp <= 0 :\n",
        "    return 0\n",
        "  else :\n",
        "    return 1"
      ],
      "execution_count": 6,
      "outputs": []
    },
    {
      "cell_type": "code",
      "metadata": {
        "id": "5JnJ0omKPUUz"
      },
      "source": [
        "# NAND 게이트 구현\n",
        "def NAND(x1, x2) :\n",
        "  x = np.array([x1, x2])\n",
        "  w = np.array([-0.5, -0.5]) \n",
        "  b = 0.7 \n",
        "  tmp = np.sum(w*x) + b\n",
        "\n",
        "  if tmp <= 0 :\n",
        "    return 0\n",
        "  else :\n",
        "    return 1"
      ],
      "execution_count": 7,
      "outputs": []
    },
    {
      "cell_type": "code",
      "metadata": {
        "id": "CgKXaSGQPwT0"
      },
      "source": [
        "# OR 게이트 구현\n",
        "def OR(x1, x2) :\n",
        "  x = np.array([x1, x2])\n",
        "  w = np.array([0.5, 0.5])\n",
        "  b = -0.2\n",
        "\n",
        "  tmp = np.sum(w*x) + b\n",
        "\n",
        "  if tmp <= 0:\n",
        "    return 0\n",
        "  else :\n",
        "    return 1"
      ],
      "execution_count": 8,
      "outputs": []
    },
    {
      "cell_type": "markdown",
      "metadata": {
        "id": "DwPAkRDMW9ib"
      },
      "source": [
        "## 퍼셉트론의 한계\n",
        "- XOR 게이트 : 배타적 논리합이라는 논리회로\n",
        "  - X1와 X2 중 한쪽이 1일 때에만 1을 출력\n",
        "  - 이문제는 다른 논리회로와는 다르게 직선하나로 구분할 수 없음\n",
        "\n",
        "- 단층 퍼센트론 수식은 직선 하나로 나눈 영역만 표현할 수 있다는 한계를 지님\n",
        "(비선형 영역을 분리할 수가 없다)"
      ]
    },
    {
      "cell_type": "markdown",
      "metadata": {
        "id": "wz9kXl2FX2RM"
      },
      "source": [
        "## 다층 퍼셉트론\n",
        "- 퍼셉트론으로는 XOR 게이트를 표현할 수 없었지만 이를 층으로 쌓은 다층 퍼셉트론(multi-layer perceptron)으로 층을 추가하여 만들 수 있음,"
      ]
    },
    {
      "cell_type": "code",
      "metadata": {
        "id": "IqVg0E52W7mK"
      },
      "source": [
        "# 1. XOR게이트를 만들기 위해 기존 게이트 조합하기\n",
        "def XOR(x1, x2) :\n",
        "  s1 = NAND(x1, x2)\n",
        "  s2 = OR(x1, x2)\n",
        "  y = AND(s1, s2)\n",
        "  return y"
      ],
      "execution_count": 9,
      "outputs": []
    },
    {
      "cell_type": "code",
      "metadata": {
        "colab": {
          "base_uri": "https://localhost:8080/"
        },
        "id": "Qg3IAcisZyhl",
        "outputId": "84b5b997-946f-4ae6-8c53-e48fdc0a3df7"
      },
      "source": [
        "print('0, 0 : ', XOR(0,0))\n",
        "print('1, 0 : ', XOR(1,0))\n",
        "print('0, 1 : ', XOR(0,1))\n",
        "print('1, 1 : ', XOR(1,1))"
      ],
      "execution_count": 10,
      "outputs": [
        {
          "output_type": "stream",
          "text": [
            "0, 0 :  0\n",
            "1, 0 :  1\n",
            "0, 1 :  1\n",
            "1, 1 :  0\n"
          ],
          "name": "stdout"
        }
      ]
    },
    {
      "cell_type": "code",
      "metadata": {
        "id": "Gxjvaxa_Z1QA"
      },
      "source": [
        ""
      ],
      "execution_count": 10,
      "outputs": []
    }
  ]
}