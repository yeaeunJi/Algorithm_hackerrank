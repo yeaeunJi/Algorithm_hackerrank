{
  "nbformat": 4,
  "nbformat_minor": 0,
  "metadata": {
    "colab": {
      "name": "퍼셉트론.ipynb",
      "provenance": [],
      "collapsed_sections": [],
      "authorship_tag": "ABX9TyNW0AI5R7hOrPm87iB0SkCv",
      "include_colab_link": true
    },
    "kernelspec": {
      "name": "python3",
      "display_name": "Python 3"
    }
  },
  "cells": [
    {
      "cell_type": "markdown",
      "metadata": {
        "id": "view-in-github",
        "colab_type": "text"
      },
      "source": [
        "<a href=\"https://colab.research.google.com/github/yeaeunJi/Algorithm_hackerrank/blob/main/%ED%8D%BC%EC%85%89%ED%8A%B8%EB%A1%A0.ipynb\" target=\"_parent\"><img src=\"https://colab.research.google.com/assets/colab-badge.svg\" alt=\"Open In Colab\"/></a>"
      ]
    },
    {
      "cell_type": "markdown",
      "metadata": {
        "id": "liqTmJw0Pgxx"
      },
      "source": [
        "*밑바닥부터 시작하는 딥러닝*\n",
        "- 신경망(딥러닝)의 기원이 되는 알고리즘\n",
        "- 퍼셉트론이란? \n",
        "  - 퍼셉트론이란 다수의 신호를 입력으로 받아 하나의 신호를 출력\n",
        "  - 퍼셉트론 신호는 '흐른다/안 흐른다'의 두 가지 값을 가짐\n",
        "  - 입력 신호가 뉴런에 보내질 때에는 각각 고유한 가중치가 곱해짐\n",
        "  - 뉴런에서 보내온 신호의 총합이 정해진 한계를 넘어설 때만 1을 출력\n",
        "(이를 '뉴런이 활성화한다'라고 표현하기도 함)\n",
        "\n",
        "  - 이책에서는 그 한계를 '임계값'이라고 함(세타)\n",
        "\n",
        "     0 (w1x1 + w2x2 <= theta)\n",
        "      \n",
        "       1 (w1x1 + w2x2 > theta)\n",
        "\n",
        "  - 복수의 입력 신호 각각에 고육한 가중치를 부여함(가중치는 각 신호가 결과에 주는 영향력을 조절하는 요소로 작용하는데, 가중치가 클수록 해당 신호가 더 중요함을 의미)"
      ]
    },
    {
      "cell_type": "markdown",
      "metadata": {
        "id": "bdJ-ctaVfIn7"
      },
      "source": [
        "## 단순한 논리 회로\n",
        "### AND 게이트\n",
        "- AND 게이트는 입력이 둘이고, 출력이 하나임\n",
        "- 두 입력이 모두 1일때에만 1을 출력하고, 그 외에는 0을 출력\n",
        "- 이와 같은 AND 게이트를 퍼셉트론으로 표현하고자 함\n",
        "  - w1, w2, theta의 값을 정해야 하는데 이러한 조건을 만족하는 매개변수의 조합은 무수히 많음\n",
        "  - 매개변수를 (0.5, 0.5, 0.7) 등으로 설정하면 x1, x2 모두가 1일 때만 가중 신호의 총합이 주어진 임계값을 웃돌게됨\n",
        "\n",
        "\n"
      ]
    },
    {
      "cell_type": "code",
      "metadata": {
        "id": "5Sr0ooUzfHHu"
      },
      "source": [
        ""
      ],
      "execution_count": null,
      "outputs": []
    }
  ]
}